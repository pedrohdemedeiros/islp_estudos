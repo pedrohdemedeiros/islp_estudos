{
 "cells": [
  {
   "cell_type": "markdown",
   "metadata": {},
   "source": [
    "## Análise das Respostas sobre Abordagens Paramétricas e Não-Paramétricas\n",
    "\n",
    "### 1. Resposta Não Oficial:\n",
    "A resposta não oficial inicia discutindo a ambiguidade na definição de métodos paramétricos e não paramétricos. Ela destaca:\n",
    "- Modelos paramétricos têm suposições fortes e explícitas sobre a forma do modelo.\n",
    "- Modelos não paramétricos têm um número de parâmetros dependente da quantidade de dados, com o mínimo de suposições.\n",
    "- Vantagens dos paramétricos: necessidade de menos observações, rapidez, robustez.\n",
    "- Desvantagem principal: suposições fortes podem torná-los menos flexíveis.\n",
    "\n",
    "### 2. Sua Resposta:\n",
    "\"Testes paramétricos tem como premissa a adequação dos dados a uma distribuição a priori, reduzindo o trabalho a estimar um set de parâmetros a partir dos dados observados, o training data, e a inferir a partir deles o valor de um parâmetro de interesse, o target data. No caso de testes não paramétricos, não há a premissa de um modelo, de maneira que todas as informações assumidas vem do training data. Testes paramétricos são, em geral, menos intensivos computacionalmente por reduzir a busca a alguns parâmetros, no entanto podem ter problemas de viés de maneira mais evidente. Testes não paramétricos costumam ser mais precisos, mas demandam uma quantidade de dados e processamento muito maior. Outra questão a se ter em conta é o overfitting caso você não tenha uma variedade de dados suficientemente grande e diversa no seu data set de test.\"\n",
    "\n",
    "### 3. Minha Resposta (proposta):\n",
    "\n",
    "#### Paramétricos vs. Não-Paramétricos:\n",
    "- **Modelos Paramétricos**: Assumem uma forma específica da relação entre variáveis. Número fixo e finito de parâmetros. Ex.: regressão linear.\n",
    "  - **Vantagens**:\n",
    "    1. Simplicidade.\n",
    "    2. Velocidade.\n",
    "    3. Menos propensos a overfitting com poucos dados.\n",
    "  - **Desvantagens**:\n",
    "    1. Menos flexíveis.\n",
    "  \n",
    "- **Modelos Não-Paramétricos**: Não fazem suposições fortes. Número de parâmetros cresce com os dados.\n",
    "  - **Vantagens**:\n",
    "    1. Flexibilidade.\n",
    "    2. Potencial para melhores acurácias.\n",
    "  - **Desvantagens**:\n",
    "    1. Necessidade de mais dados.\n",
    "    2. Mais intensivos computacionalmente.\n",
    "    3. Risco de overfitting.\n",
    "\n",
    "### Conclusão:\n",
    "\n",
    "Cada resposta tem seus méritos. A escolha da \"melhor\" resposta depende do contexto e do público-alvo. A resposta não oficial é detalhada e profunda, a sua é concisa e direta, e a minha busca equilibrar detalhes com concisão.\n"
   ]
  }
 ],
 "metadata": {
  "language_info": {
   "name": "python"
  },
  "orig_nbformat": 4
 },
 "nbformat": 4,
 "nbformat_minor": 2
}
