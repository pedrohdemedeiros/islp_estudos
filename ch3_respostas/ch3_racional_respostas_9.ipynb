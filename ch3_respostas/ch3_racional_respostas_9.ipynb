{
 "cells": [
  {
   "cell_type": "markdown",
   "metadata": {},
   "source": [
    "\n",
    "**9. Multiple Linear Regression on the Auto Data Set**\n",
    "\n",
    "**(a)** Produce a scatterplot matrix which includes all of the variables in the data set.\n",
    "\n",
    "**(b)** Compute the matrix of correlations between the variables using the `DataFrame.corr()` method.\n",
    "\n",
    "**(c)** Use the `sm.OLS()` function to perform a multiple linear regression with `mpg` as the response and all other variables except `name` as the predictors. Use the `summarize()` function to print the results. Comment on the output. For instance:\n",
    "   - *i.* Is there a relationship between the predictors and the response? Use the `anova_lm()` function from `statsmodels` to answer this question.\n",
    "   - *ii.* Which predictors appear to have a statistically significant relationship to the response?\n",
    "   - *iii.* What does the coefficient for the `year` variable suggest?\n",
    "\n",
    "**(d)** Produce some of diagnostic plots of the linear regression fit as described in the lab. Comment on any problems you see with the fit. Do the residual plots suggest any unusually large outliers? Does the leverage plot identify any observations with unusually high leverage?\n",
    "\n",
    "**(e)** Fit some models with interactions as described in the lab. Do any interactions appear to be statistically significant?\n",
    "\n",
    "**(f)** Try a few different transformations of the variables, such as `log(X)`, \\sqrt{X}, X^2. Comment on your findings.\n",
    "\n",
    "---"
   ]
  }
 ],
 "metadata": {
  "language_info": {
   "name": "python"
  }
 },
 "nbformat": 4,
 "nbformat_minor": 2
}
