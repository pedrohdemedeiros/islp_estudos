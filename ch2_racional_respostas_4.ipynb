{
 "cells": [
  {
   "cell_type": "markdown",
   "metadata": {},
   "source": [
    "### 4-a\n",
    "\n",
    "#### Situação 1: Definição de papéis ecológicos em uma comunidade microbiana.\n",
    "- **Descrição**: Uma classificação simples entre autotróficos e heterotróficos baseado no balanço de carbono fixado em cada célula ao longo do tempo e oxigênio gasoso produzido em um ambiente hermético em relação às formas de carbono abióticas no ambiente.\n",
    "- **Predictors**: \n",
    "  - Quantidade de carbono não orgânico fixado nas células ao longo do tempo em relação ao carbono inorgânico.\n",
    "  - Quantidade de oxigênio produzido por célula.\n",
    "- **Inferência ou predição?**: Predição\n",
    "\n",
    "#### Situação 2: Viabilidade de células transformadas em um ambiente de cultura.\n",
    "- **Descrição**: Classificação entre células transformadas e não transformadas.\n",
    "- **Predictors**: \n",
    "  - Viabilidade celular em relação ao tempo de cultura.\n",
    "  - Resistência a doses distintas de antibióticos no meio.\n",
    "- **Inferência ou predição?**: Predição\n",
    "  \n",
    "#### Situação 3: Classificação de riscos discretos em um estudo de GWAS para um certo fenótipo.\n",
    "- **Descrição**: Os predictores seriam a presença/ausência de genótipos já identificados para o fenótipo em questão.\n",
    "- **Inferência ou predição?**: Predição"
   ]
  },
  {
   "cell_type": "markdown",
   "metadata": {},
   "source": [
    "## B\n",
    "\n",
    "### Situação 1:\n",
    "**Descrição**: Prever a quantidade de carbono não orgânico fixado nas células ao longo do tempo em relação ao carbono inorgânico baseado na quantidade de cópias de um gene associado.  \n",
    "**Predictors**: Quantidade de cópias de um gene associado a fixação de carbono.  \n",
    "**Inferência ou predição?**: Predição.\n",
    "\n",
    "---\n",
    "\n",
    "### Situação 2:\n",
    "**Descrição**: Entender como a quantidade de cópias de um gene associado a fixação de carbono influencia na quantidade de carbono não orgânico fixado nas células ao longo do tempo em relação ao carbono inorgânico.  \n",
    "**Predictors**: Quantidade de genes e quantidade de carbono não orgânico fixado nas células ao longo do tempo.  \n",
    "**Inferência ou predição?**: Inferência.\n",
    "\n",
    "---\n",
    "\n",
    "### Situação 3:\n",
    "**Descrição**: Prever a produção de uma substância baseado na quantidade de cópias de um gene associado a produção dessa substância.  \n",
    "**Predictors**: Quantidade de cópias de um gene associado a produção de uma substância.  \n",
    "**Inferência ou predição?**: Predição.\n"
   ]
  },
  {
   "cell_type": "markdown",
   "metadata": {},
   "source": [
    "## C - Cluster Analysis\n",
    "\n",
    "### Situação 1:\n",
    "**Descrição**: Dividir comunidades microbianas em grupos de acordo com o tipo de metabolismo que estão executando em um ambiente de pele.  \n",
    "**Predictors**: Tipos de nutrientes utilizados, excretas e genes ativados.\n",
    "\n",
    "---\n",
    "\n",
    "### Situação 2:\n",
    "**Descrição**: Assinalar grupos de árvores em uma área florestada de um parque baseado nos serviços ambientais que elas estão prestando.  \n",
    "**Predictors**: Altura da copa, sombra, inclinação do terreno, espécie, frutos, espécies que as habitam.\n",
    "\n",
    "---\n",
    "\n",
    "### Situação 3:\n",
    "**Descrição**: Organizar livros em uma biblioteca de acordo com o assunto.  \n",
    "**Predictors**: Localização desses livros já organizados pela antiga bibliotecária por assunto.\n"
   ]
  }
 ],
 "metadata": {
  "kernelspec": {
   "display_name": "Python 3",
   "language": "python",
   "name": "python3"
  },
  "language_info": {
   "codemirror_mode": {
    "name": "ipython",
    "version": 3
   },
   "file_extension": ".py",
   "mimetype": "text/x-python",
   "name": "python",
   "nbconvert_exporter": "python",
   "pygments_lexer": "ipython3",
   "version": "3.8.10"
  },
  "orig_nbformat": 4
 },
 "nbformat": 4,
 "nbformat_minor": 2
}
