{
 "cells": [
  {
   "cell_type": "markdown",
   "metadata": {},
   "source": []
  },
  {
   "cell_type": "markdown",
   "metadata": {},
   "source": [
    "1. Describe the null hypotheses to which the p-values given in Table 3.4  correspond. Explain what conclusions you can draw based on these\n",
    "p-values. Your explanation should be phrased in terms of sales, TV, radio, and newspaper, rather than in terms of the coefficients of the\n",
    "linear model.\n",
    "\n",
    "A hipótese nula para cada variável dependente descreve acerca do seu impacto nas vendas enquanto veículo de propaganda, pragmaticamente a hipótese nula diz que os veículos de propganda não possuem impacto nas vendas. O t-statistic para TV e Radio são bastante positivos associados a valores P negativos, indicando que o coeficiente de calculado tem provavel real impacto no aumento de vendas, o que favorece a hipótese alternativa: estes veículos específicos impactam na venda.\n",
    "\n",
    "Já para Jornais a situação é oposta, o t-statistic é negativo e o valor P é positivo, indicando que o coeficiente calculado não tem impacto nas vendas, o que favorece a hipótese nula: este veículo específico não impacta na venda.\n",
    "\n",
    "    "
   ]
  }
 ],
 "metadata": {
  "language_info": {
   "name": "python"
  }
 },
 "nbformat": 4,
 "nbformat_minor": 2
}
